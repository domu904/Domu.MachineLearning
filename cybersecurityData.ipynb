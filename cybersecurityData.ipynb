{
 "metadata": {
  "language_info": {
   "codemirror_mode": {
    "name": "ipython",
    "version": 3
   },
   "file_extension": ".py",
   "mimetype": "text/x-python",
   "name": "python",
   "nbconvert_exporter": "python",
   "pygments_lexer": "ipython3",
   "version": "3.7.1-final"
  },
  "orig_nbformat": 2,
  "kernelspec": {
   "name": "Python 3.7.1 64-bit ('base': conda)",
   "display_name": "Python 3.7.1 64-bit ('base': conda)",
   "metadata": {
    "interpreter": {
     "hash": "1fa263db3c86e92d785a905e419fb8ddb875714bf98488d5633968e6acfe288e"
    }
   }
  }
 },
 "nbformat": 4,
 "nbformat_minor": 2,
 "cells": [
  {
   "cell_type": "code",
   "execution_count": 1,
   "metadata": {},
   "outputs": [
    {
     "output_type": "execute_result",
     "data": {
      "text/plain": [
       "       Unnamed: 0      Number  Individuals_Affected         year\n",
       "count  1055.00000  1055.00000          1.055000e+03  1055.000000\n",
       "mean    528.00000   527.00000          3.026202e+04  2011.450237\n",
       "std     304.69657   304.69657          2.278598e+05     1.581780\n",
       "min       1.00000     0.00000          5.000000e+02  1997.000000\n",
       "25%     264.50000   263.50000          1.000000e+03  2010.000000\n",
       "50%     528.00000   527.00000          2.300000e+03  2012.000000\n",
       "75%     791.50000   790.50000          6.941000e+03  2013.000000\n",
       "max    1055.00000  1054.00000          4.900000e+06  2014.000000"
      ],
      "text/html": "<div>\n<style scoped>\n    .dataframe tbody tr th:only-of-type {\n        vertical-align: middle;\n    }\n\n    .dataframe tbody tr th {\n        vertical-align: top;\n    }\n\n    .dataframe thead th {\n        text-align: right;\n    }\n</style>\n<table border=\"1\" class=\"dataframe\">\n  <thead>\n    <tr style=\"text-align: right;\">\n      <th></th>\n      <th>Unnamed: 0</th>\n      <th>Number</th>\n      <th>Individuals_Affected</th>\n      <th>year</th>\n    </tr>\n  </thead>\n  <tbody>\n    <tr>\n      <th>count</th>\n      <td>1055.00000</td>\n      <td>1055.00000</td>\n      <td>1.055000e+03</td>\n      <td>1055.000000</td>\n    </tr>\n    <tr>\n      <th>mean</th>\n      <td>528.00000</td>\n      <td>527.00000</td>\n      <td>3.026202e+04</td>\n      <td>2011.450237</td>\n    </tr>\n    <tr>\n      <th>std</th>\n      <td>304.69657</td>\n      <td>304.69657</td>\n      <td>2.278598e+05</td>\n      <td>1.581780</td>\n    </tr>\n    <tr>\n      <th>min</th>\n      <td>1.00000</td>\n      <td>0.00000</td>\n      <td>5.000000e+02</td>\n      <td>1997.000000</td>\n    </tr>\n    <tr>\n      <th>25%</th>\n      <td>264.50000</td>\n      <td>263.50000</td>\n      <td>1.000000e+03</td>\n      <td>2010.000000</td>\n    </tr>\n    <tr>\n      <th>50%</th>\n      <td>528.00000</td>\n      <td>527.00000</td>\n      <td>2.300000e+03</td>\n      <td>2012.000000</td>\n    </tr>\n    <tr>\n      <th>75%</th>\n      <td>791.50000</td>\n      <td>790.50000</td>\n      <td>6.941000e+03</td>\n      <td>2013.000000</td>\n    </tr>\n    <tr>\n      <th>max</th>\n      <td>1055.00000</td>\n      <td>1054.00000</td>\n      <td>4.900000e+06</td>\n      <td>2014.000000</td>\n    </tr>\n  </tbody>\n</table>\n</div>"
     },
     "metadata": {},
     "execution_count": 1
    }
   ],
   "source": [
    "import pandas as pd\n",
    "file_path = './data/cyberData/cyberSecurityBreaches.csv'\n",
    "# read the data and store data in DataFrame\n",
    "data = pd.read_csv(file_path) \n",
    "# print a summary of the data\n",
    "data.describe()"
   ]
  }
 ]
}