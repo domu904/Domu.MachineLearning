{
 "nbformat": 4,
 "nbformat_minor": 2,
 "metadata": {
  "language_info": {
   "name": "python",
   "codemirror_mode": {
    "name": "ipython",
    "version": 3
   },
   "version": "3.7.1-final"
  },
  "orig_nbformat": 2,
  "file_extension": ".py",
  "mimetype": "text/x-python",
  "name": "python",
  "npconvert_exporter": "python",
  "pygments_lexer": "ipython3",
  "version": 3,
  "kernelspec": {
   "name": "python37164bitbasecondad2822a14379545b6ad8221fdb28a47f5",
   "display_name": "Python 3.7.1 64-bit ('base': conda)"
  }
 },
 "cells": [
  {
   "cell_type": "markdown",
   "metadata": {},
   "source": [
    "# This is Soccer data from FIFA 2019 players. We will analyze soccer players\n",
    "\n",
    "## Package Used\n",
    "- Numpy\n",
    "- Pandas\n",
    "- Matplolib\n",
    "- Seaborn"
   ]
  },
  {
   "cell_type": "code",
   "execution_count": 1,
   "metadata": {},
   "outputs": [],
   "source": [
    "import pandas as pd\n",
    "import numpy as np\n",
    "import seaborn as sns\n",
    "import matplotlib.pyplot as plt\n",
    "import re\n",
    "\n",
    "from sklearn.model_selection import train_test_split\n",
    "from sklearn.metrics import mean_squared_error\n",
    "from sklearn.model_selection import KFold, StratifiedKFold\n",
    "from tqdm import tqdm\n",
    "from sklearn.preprocessing import LabelEncoder\n",
    "\n",
    "# Path of the data file to read\n",
    "iowa_file_path = './data/soccerData/data.csv'\n",
    "\n",
    "soccer_data = pd.read_csv(iowa_file_path)\n",
    "\n",
    ""
   ]
  },
  {
   "cell_type": "code",
   "execution_count": 2,
   "metadata": {},
   "outputs": [
    {
     "output_type": "execute_result",
     "data": {
      "text/plain": "   Unnamed: 0      ID               Name  Age  \\\n0           0  158023           L. Messi   31   \n1           1   20801  Cristiano Ronaldo   33   \n2           2  190871          Neymar Jr   26   \n3           3  193080             De Gea   27   \n4           4  192985       K. De Bruyne   27   \n\n                                            Photo Nationality  \\\n0  https://cdn.sofifa.org/players/4/19/158023.png   Argentina   \n1   https://cdn.sofifa.org/players/4/19/20801.png    Portugal   \n2  https://cdn.sofifa.org/players/4/19/190871.png      Brazil   \n3  https://cdn.sofifa.org/players/4/19/193080.png       Spain   \n4  https://cdn.sofifa.org/players/4/19/192985.png     Belgium   \n\n                                  Flag  Overall  Potential  \\\n0  https://cdn.sofifa.org/flags/52.png       94         94   \n1  https://cdn.sofifa.org/flags/38.png       94         94   \n2  https://cdn.sofifa.org/flags/54.png       92         93   \n3  https://cdn.sofifa.org/flags/45.png       91         93   \n4   https://cdn.sofifa.org/flags/7.png       91         92   \n\n                  Club      ...       Composure Marking StandingTackle  \\\n0         FC Barcelona      ...            96.0    33.0           28.0   \n1             Juventus      ...            95.0    28.0           31.0   \n2  Paris Saint-Germain      ...            94.0    27.0           24.0   \n3    Manchester United      ...            68.0    15.0           21.0   \n4      Manchester City      ...            88.0    68.0           58.0   \n\n   SlidingTackle GKDiving  GKHandling  GKKicking  GKPositioning GKReflexes  \\\n0           26.0      6.0        11.0       15.0           14.0        8.0   \n1           23.0      7.0        11.0       15.0           14.0       11.0   \n2           33.0      9.0         9.0       15.0           15.0       11.0   \n3           13.0     90.0        85.0       87.0           88.0       94.0   \n4           51.0     15.0        13.0        5.0           10.0       13.0   \n\n  Release Clause  \n0        €226.5M  \n1        €127.1M  \n2        €228.1M  \n3        €138.6M  \n4        €196.4M  \n\n[5 rows x 89 columns]",
      "text/html": "<div>\n<style scoped>\n    .dataframe tbody tr th:only-of-type {\n        vertical-align: middle;\n    }\n\n    .dataframe tbody tr th {\n        vertical-align: top;\n    }\n\n    .dataframe thead th {\n        text-align: right;\n    }\n</style>\n<table border=\"1\" class=\"dataframe\">\n  <thead>\n    <tr style=\"text-align: right;\">\n      <th></th>\n      <th>Unnamed: 0</th>\n      <th>ID</th>\n      <th>Name</th>\n      <th>Age</th>\n      <th>Photo</th>\n      <th>Nationality</th>\n      <th>Flag</th>\n      <th>Overall</th>\n      <th>Potential</th>\n      <th>Club</th>\n      <th>...</th>\n      <th>Composure</th>\n      <th>Marking</th>\n      <th>StandingTackle</th>\n      <th>SlidingTackle</th>\n      <th>GKDiving</th>\n      <th>GKHandling</th>\n      <th>GKKicking</th>\n      <th>GKPositioning</th>\n      <th>GKReflexes</th>\n      <th>Release Clause</th>\n    </tr>\n  </thead>\n  <tbody>\n    <tr>\n      <th>0</th>\n      <td>0</td>\n      <td>158023</td>\n      <td>L. Messi</td>\n      <td>31</td>\n      <td>https://cdn.sofifa.org/players/4/19/158023.png</td>\n      <td>Argentina</td>\n      <td>https://cdn.sofifa.org/flags/52.png</td>\n      <td>94</td>\n      <td>94</td>\n      <td>FC Barcelona</td>\n      <td>...</td>\n      <td>96.0</td>\n      <td>33.0</td>\n      <td>28.0</td>\n      <td>26.0</td>\n      <td>6.0</td>\n      <td>11.0</td>\n      <td>15.0</td>\n      <td>14.0</td>\n      <td>8.0</td>\n      <td>€226.5M</td>\n    </tr>\n    <tr>\n      <th>1</th>\n      <td>1</td>\n      <td>20801</td>\n      <td>Cristiano Ronaldo</td>\n      <td>33</td>\n      <td>https://cdn.sofifa.org/players/4/19/20801.png</td>\n      <td>Portugal</td>\n      <td>https://cdn.sofifa.org/flags/38.png</td>\n      <td>94</td>\n      <td>94</td>\n      <td>Juventus</td>\n      <td>...</td>\n      <td>95.0</td>\n      <td>28.0</td>\n      <td>31.0</td>\n      <td>23.0</td>\n      <td>7.0</td>\n      <td>11.0</td>\n      <td>15.0</td>\n      <td>14.0</td>\n      <td>11.0</td>\n      <td>€127.1M</td>\n    </tr>\n    <tr>\n      <th>2</th>\n      <td>2</td>\n      <td>190871</td>\n      <td>Neymar Jr</td>\n      <td>26</td>\n      <td>https://cdn.sofifa.org/players/4/19/190871.png</td>\n      <td>Brazil</td>\n      <td>https://cdn.sofifa.org/flags/54.png</td>\n      <td>92</td>\n      <td>93</td>\n      <td>Paris Saint-Germain</td>\n      <td>...</td>\n      <td>94.0</td>\n      <td>27.0</td>\n      <td>24.0</td>\n      <td>33.0</td>\n      <td>9.0</td>\n      <td>9.0</td>\n      <td>15.0</td>\n      <td>15.0</td>\n      <td>11.0</td>\n      <td>€228.1M</td>\n    </tr>\n    <tr>\n      <th>3</th>\n      <td>3</td>\n      <td>193080</td>\n      <td>De Gea</td>\n      <td>27</td>\n      <td>https://cdn.sofifa.org/players/4/19/193080.png</td>\n      <td>Spain</td>\n      <td>https://cdn.sofifa.org/flags/45.png</td>\n      <td>91</td>\n      <td>93</td>\n      <td>Manchester United</td>\n      <td>...</td>\n      <td>68.0</td>\n      <td>15.0</td>\n      <td>21.0</td>\n      <td>13.0</td>\n      <td>90.0</td>\n      <td>85.0</td>\n      <td>87.0</td>\n      <td>88.0</td>\n      <td>94.0</td>\n      <td>€138.6M</td>\n    </tr>\n    <tr>\n      <th>4</th>\n      <td>4</td>\n      <td>192985</td>\n      <td>K. De Bruyne</td>\n      <td>27</td>\n      <td>https://cdn.sofifa.org/players/4/19/192985.png</td>\n      <td>Belgium</td>\n      <td>https://cdn.sofifa.org/flags/7.png</td>\n      <td>91</td>\n      <td>92</td>\n      <td>Manchester City</td>\n      <td>...</td>\n      <td>88.0</td>\n      <td>68.0</td>\n      <td>58.0</td>\n      <td>51.0</td>\n      <td>15.0</td>\n      <td>13.0</td>\n      <td>5.0</td>\n      <td>10.0</td>\n      <td>13.0</td>\n      <td>€196.4M</td>\n    </tr>\n  </tbody>\n</table>\n<p>5 rows × 89 columns</p>\n</div>"
     },
     "metadata": {},
     "execution_count": 2
    }
   ],
   "source": [
    "soccer_data.head()"
   ]
  },
  {
   "cell_type": "code",
   "execution_count": 3,
   "metadata": {},
   "outputs": [
    {
     "output_type": "execute_result",
     "data": {
      "text/plain": "(18207, 89)"
     },
     "metadata": {},
     "execution_count": 3
    }
   ],
   "source": [
    "soccer_data.shape"
   ]
  },
  {
   "cell_type": "markdown",
   "metadata": {},
   "source": [
    "The dataset have 18207 rows and 89 columns"
   ]
  },
  {
   "cell_type": "code",
   "execution_count": 4,
   "metadata": {},
   "outputs": [
    {
     "output_type": "execute_result",
     "data": {
      "text/plain": "Index(['Unnamed: 0', 'ID', 'Name', 'Age', 'Photo', 'Nationality', 'Flag',\n       'Overall', 'Potential', 'Club', 'Club Logo', 'Value', 'Wage', 'Special',\n       'Preferred Foot', 'International Reputation', 'Weak Foot',\n       'Skill Moves', 'Work Rate', 'Body Type', 'Real Face', 'Position',\n       'Jersey Number', 'Joined', 'Loaned From', 'Contract Valid Until',\n       'Height', 'Weight', 'LS', 'ST', 'RS', 'LW', 'LF', 'CF', 'RF', 'RW',\n       'LAM', 'CAM', 'RAM', 'LM', 'LCM', 'CM', 'RCM', 'RM', 'LWB', 'LDM',\n       'CDM', 'RDM', 'RWB', 'LB', 'LCB', 'CB', 'RCB', 'RB', 'Crossing',\n       'Finishing', 'HeadingAccuracy', 'ShortPassing', 'Volleys', 'Dribbling',\n       'Curve', 'FKAccuracy', 'LongPassing', 'BallControl', 'Acceleration',\n       'SprintSpeed', 'Agility', 'Reactions', 'Balance', 'ShotPower',\n       'Jumping', 'Stamina', 'Strength', 'LongShots', 'Aggression',\n       'Interceptions', 'Positioning', 'Vision', 'Penalties', 'Composure',\n       'Marking', 'StandingTackle', 'SlidingTackle', 'GKDiving', 'GKHandling',\n       'GKKicking', 'GKPositioning', 'GKReflexes', 'Release Clause'],\n      dtype='object')"
     },
     "metadata": {},
     "execution_count": 4
    }
   ],
   "source": [
    "soccer_data.columns"
   ]
  },
  {
   "cell_type": "code",
   "execution_count": null,
   "metadata": {},
   "outputs": [],
   "source": [
    "soccer_data[soccer_data['Position']=='RDM']"
   ]
  },
  {
   "cell_type": "code",
   "execution_count": null,
   "metadata": {},
   "outputs": [],
   "source": [
    "categorical = ['Nationality', 'Club', 'Preferred Foot', 'Work Rate', 'Body Type', 'Position']"
   ]
  },
  {
   "cell_type": "code",
   "execution_count": null,
   "metadata": {},
   "outputs": [],
   "source": [
    "def pie_count(data, field=\"Nationality\", percent_limit=0.5, title=\"Number of players by \"):\n",
    "    \n",
    "    title += field\n",
    "    data[field] = data[field].fillna('NA')\n",
    "    data = data[field].value_counts().to_frame()\n",
    "\n",
    "    total = data[field].sum()\n",
    "    data['percentage'] = 100 * data[field]/total    \n",
    "\n",
    "    percent_limit = percent_limit\n",
    "    otherdata = data[data['percentage'] < percent_limit] \n",
    "    others = otherdata['percentage'].sum()  \n",
    "    maindata = data[data['percentage'] >= percent_limit]\n",
    "\n",
    "    data = maindata\n",
    "    other_label = \"Others(<\" + str(percent_limit) + \"% each)\"           # Create new label\n",
    "    data.loc[other_label] = pd.Series({field:otherdata[field].sum()}) \n",
    "    \n",
    "    labels = data.index.tolist()   \n",
    "    datavals = data[field].tolist()\n",
    "    \n",
    "    trace=go.Pie(labels=labels,values=datavals)\n",
    "\n",
    "    layout = go.Layout(\n",
    "        title = title,\n",
    "        height=700\n",
    "        )\n",
    "    \n",
    "    fig = go.Figure(data=[trace], layout=layout)\n",
    "    iplot(fig)\n",
    "\n",
    "pie_count(soccer_data, 'Nationality')\n",
    "pie_count(soccer_data, 'Club')\n",
    "pie_count(soccer_data, 'Preferred Foot')\n",
    "pie_count(soccer_data, 'Work Rate', 0.1)\n",
    "pie_count(soccer_data, 'Body Type', 0.1)\n",
    "pie_count(soccer_data, 'Position', 0.1)"
   ]
  },
  {
   "cell_type": "code",
   "execution_count": null,
   "metadata": {},
   "outputs": [],
   "source": []
  }
 ]
}