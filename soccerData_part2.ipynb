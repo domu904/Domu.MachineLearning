{
 "nbformat": 4,
 "nbformat_minor": 2,
 "metadata": {
  "language_info": {
   "name": "python",
   "codemirror_mode": {
    "name": "ipython",
    "version": 3
   },
   "version": "3.7.1-final"
  },
  "orig_nbformat": 2,
  "file_extension": ".py",
  "mimetype": "text/x-python",
  "name": "python",
  "npconvert_exporter": "python",
  "pygments_lexer": "ipython3",
  "version": 3,
  "kernelspec": {
   "name": "python37164bitbasecondad2822a14379545b6ad8221fdb28a47f5",
   "display_name": "Python 3.7.1 64-bit ('base': conda)"
  }
 },
 "cells": [
  {
   "cell_type": "code",
   "execution_count": 6,
   "metadata": {},
   "outputs": [
    {
     "output_type": "execute_result",
     "data": {
      "text/plain": "Index(['Unnamed: 0', 'ID', 'Name', 'Age', 'Photo', 'Nationality', 'Flag',\n       'Overall', 'Potential', 'Club', 'Club Logo', 'Value', 'Wage', 'Special',\n       'Preferred Foot', 'International Reputation', 'Weak Foot',\n       'Skill Moves', 'Work Rate', 'Body Type', 'Real Face', 'Position',\n       'Jersey Number', 'Joined', 'Loaned From', 'Contract Valid Until',\n       'Height', 'Weight', 'LS', 'ST', 'RS', 'LW', 'LF', 'CF', 'RF', 'RW',\n       'LAM', 'CAM', 'RAM', 'LM', 'LCM', 'CM', 'RCM', 'RM', 'LWB', 'LDM',\n       'CDM', 'RDM', 'RWB', 'LB', 'LCB', 'CB', 'RCB', 'RB', 'Crossing',\n       'Finishing', 'HeadingAccuracy', 'ShortPassing', 'Volleys', 'Dribbling',\n       'Curve', 'FKAccuracy', 'LongPassing', 'BallControl', 'Acceleration',\n       'SprintSpeed', 'Agility', 'Reactions', 'Balance', 'ShotPower',\n       'Jumping', 'Stamina', 'Strength', 'LongShots', 'Aggression',\n       'Interceptions', 'Positioning', 'Vision', 'Penalties', 'Composure',\n       'Marking', 'StandingTackle', 'SlidingTackle', 'GKDiving', 'GKHandling',\n       'GKKicking', 'GKPositioning', 'GKReflexes', 'Release Clause'],\n      dtype='object')"
     },
     "metadata": {},
     "execution_count": 6
    }
   ],
   "source": [
    "import pandas as pd\n",
    "from sklearn.metrics import mean_absolute_error\n",
    "from sklearn.model_selection import train_test_split\n",
    "from sklearn.tree import DecisionTreeRegressor\n",
    "\n",
    "\n",
    "# Path of the data file to read\n",
    "iowa_file_path = './data/soccerData/data.csv'\n",
    "\n",
    "soccer_data = pd.read_csv(iowa_file_path)\n",
    "soccer_data.columns"
   ]
  },
  {
   "cell_type": "code",
   "execution_count": 7,
   "metadata": {},
   "outputs": [
    {
     "output_type": "execute_result",
     "data": {
      "text/plain": "          GKKicking       Agility   BallControl\ncount  18159.000000  18159.000000  18159.000000\nmean      16.232061     63.503607     58.369459\nstd       16.502864     14.766049     16.686595\nmin        1.000000     14.000000      5.000000\n25%        8.000000     55.000000     54.000000\n50%       11.000000     66.000000     63.000000\n75%       14.000000     74.000000     69.000000\nmax       91.000000     96.000000     96.000000",
      "text/html": "<div>\n<style scoped>\n    .dataframe tbody tr th:only-of-type {\n        vertical-align: middle;\n    }\n\n    .dataframe tbody tr th {\n        vertical-align: top;\n    }\n\n    .dataframe thead th {\n        text-align: right;\n    }\n</style>\n<table border=\"1\" class=\"dataframe\">\n  <thead>\n    <tr style=\"text-align: right;\">\n      <th></th>\n      <th>GKKicking</th>\n      <th>Agility</th>\n      <th>BallControl</th>\n    </tr>\n  </thead>\n  <tbody>\n    <tr>\n      <th>count</th>\n      <td>18159.000000</td>\n      <td>18159.000000</td>\n      <td>18159.000000</td>\n    </tr>\n    <tr>\n      <th>mean</th>\n      <td>16.232061</td>\n      <td>63.503607</td>\n      <td>58.369459</td>\n    </tr>\n    <tr>\n      <th>std</th>\n      <td>16.502864</td>\n      <td>14.766049</td>\n      <td>16.686595</td>\n    </tr>\n    <tr>\n      <th>min</th>\n      <td>1.000000</td>\n      <td>14.000000</td>\n      <td>5.000000</td>\n    </tr>\n    <tr>\n      <th>25%</th>\n      <td>8.000000</td>\n      <td>55.000000</td>\n      <td>54.000000</td>\n    </tr>\n    <tr>\n      <th>50%</th>\n      <td>11.000000</td>\n      <td>66.000000</td>\n      <td>63.000000</td>\n    </tr>\n    <tr>\n      <th>75%</th>\n      <td>14.000000</td>\n      <td>74.000000</td>\n      <td>69.000000</td>\n    </tr>\n    <tr>\n      <th>max</th>\n      <td>91.000000</td>\n      <td>96.000000</td>\n      <td>96.000000</td>\n    </tr>\n  </tbody>\n</table>\n</div>"
     },
     "metadata": {},
     "execution_count": 7
    }
   ],
   "source": [
    "y = soccer_data.Overall\n",
    "\n",
    "soccer_features = ['Position', 'GKKicking', 'Agility', 'BallControl']\n",
    "\n",
    "X = soccer_data[soccer_features]\n",
    "\n",
    "X.describe()"
   ]
  },
  {
   "cell_type": "code",
   "execution_count": 8,
   "metadata": {},
   "outputs": [
    {
     "output_type": "execute_result",
     "data": {
      "text/plain": "  Position  GKKicking  Agility  BallControl\n0       RF       15.0     91.0         96.0\n1       ST       15.0     87.0         94.0\n2       LW       15.0     96.0         95.0\n3       GK       87.0     60.0         42.0\n4      RCM        5.0     79.0         91.0",
      "text/html": "<div>\n<style scoped>\n    .dataframe tbody tr th:only-of-type {\n        vertical-align: middle;\n    }\n\n    .dataframe tbody tr th {\n        vertical-align: top;\n    }\n\n    .dataframe thead th {\n        text-align: right;\n    }\n</style>\n<table border=\"1\" class=\"dataframe\">\n  <thead>\n    <tr style=\"text-align: right;\">\n      <th></th>\n      <th>Position</th>\n      <th>GKKicking</th>\n      <th>Agility</th>\n      <th>BallControl</th>\n    </tr>\n  </thead>\n  <tbody>\n    <tr>\n      <th>0</th>\n      <td>RF</td>\n      <td>15.0</td>\n      <td>91.0</td>\n      <td>96.0</td>\n    </tr>\n    <tr>\n      <th>1</th>\n      <td>ST</td>\n      <td>15.0</td>\n      <td>87.0</td>\n      <td>94.0</td>\n    </tr>\n    <tr>\n      <th>2</th>\n      <td>LW</td>\n      <td>15.0</td>\n      <td>96.0</td>\n      <td>95.0</td>\n    </tr>\n    <tr>\n      <th>3</th>\n      <td>GK</td>\n      <td>87.0</td>\n      <td>60.0</td>\n      <td>42.0</td>\n    </tr>\n    <tr>\n      <th>4</th>\n      <td>RCM</td>\n      <td>5.0</td>\n      <td>79.0</td>\n      <td>91.0</td>\n    </tr>\n  </tbody>\n</table>\n</div>"
     },
     "metadata": {},
     "execution_count": 8
    }
   ],
   "source": [
    "X.head()"
   ]
  },
  {
   "cell_type": "code",
   "execution_count": null,
   "metadata": {},
   "outputs": [],
   "source": []
  }
 ]
}